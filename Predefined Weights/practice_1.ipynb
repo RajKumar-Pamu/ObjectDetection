{
 "cells": [
  {
   "cell_type": "code",
   "execution_count": 1,
   "source": [
    "import cv2\r\n",
    "import numpy as np\r\n",
    "import matplotlib.pyplot as plt"
   ],
   "outputs": [],
   "metadata": {}
  },
  {
   "cell_type": "code",
   "execution_count": null,
   "source": [
    "yolo = cv2.dnn.readNet(\"./yolov3.cfg\",\"./yolov3.weights\")\r\n",
    "classes =[]\r\n",
    "with open(\"./coco.names\",\"r\") as f:\r\n",
    "  classes =f.read().splitlines()\r\n",
    "\r\n",
    "cap =cv2.VideoCapture(0)"
   ],
   "outputs": [],
   "metadata": {}
  },
  {
   "cell_type": "code",
   "execution_count": null,
   "source": [
    "while True:\r\n",
    "    _,img = cap.read()\r\n",
    "    height,width,_=img.shape\r\n",
    "    blob =cv2.dnn.blobFromImage(img,1/255,(320,320),(0,0,0),swapRB=True,crop=False)\r\n",
    "    yolo.setInput(blob)\r\n",
    "    op_layer = yolo.getUnconnectedOutLayersNames()\r\n",
    "    layer_op = yolo.forward(op_layer)\r\n",
    "    boxes =[]\r\n",
    "    confidences =[]\r\n",
    "    class_ids =[]\r\n",
    "    for op in layer_op:\r\n",
    "        for det in op:\r\n",
    "            score = det[5:]\r\n",
    "            class_id = np.argmax(score)\r\n",
    "            confidence = score[class_id]\r\n",
    "            if confidence > 0.7:\r\n",
    "                c_x= int(det[0]*width)\r\n",
    "                c_y= int(det[0]*height)\r\n",
    "                w= int(det[0]*width)\r\n",
    "                h= int(det[0]*height)\r\n",
    "                x=int(c_x-w/2)\r\n",
    "                y=int(c_y-h/2)\r\n",
    "                boxes.append([x,y,w,h])\r\n",
    "                confidences.append(float(confidence))\r\n",
    "                class_ids.append(class_id)\r\n",
    "    indexes = cv2.dnn.NMSBoxes(boxes,confidences,0.5,0.4)\r\n",
    "    font  = cv2.FONT_HERSHEY_PLAIN\r\n",
    "    colors = np.random.uniform(0,255,size =(len(boxes),3))\r\n",
    "    #img = cv2.resize(img,(320,320),interpolation=cv2.INTER_AREA)\r\n",
    "    if len(boxes)>0:\r\n",
    "        for i in indexes.flatten():\r\n",
    "            x,y,w,h = boxes[i]\r\n",
    "            label = str(classes[class_ids[i]])\r\n",
    "            con = str(confidences[i])\r\n",
    "            col = colors[i]\r\n",
    "            cv2.rectangle(img,(x,y),(x+w,y+h),col,2)\r\n",
    "            cv2.putText(img,label+\" \"+con,(x,y+20),font,2,(255,255,255),1)\r\n",
    "    cv2.imshow(\"live\",img)\r\n",
    "    key=cv2.waitKey(1)\r\n",
    "    if key==27:\r\n",
    "        break"
   ],
   "outputs": [],
   "metadata": {}
  },
  {
   "cell_type": "code",
   "execution_count": null,
   "source": [
    "cap.release()\n",
    "cv2.destroyAllWindows()"
   ],
   "outputs": [],
   "metadata": {}
  },
  {
   "cell_type": "code",
   "execution_count": null,
   "source": [],
   "outputs": [],
   "metadata": {}
  }
 ],
 "metadata": {
  "kernelspec": {
   "name": "python3",
   "display_name": "Python 3.9.5 64-bit"
  },
  "language_info": {
   "codemirror_mode": {
    "name": "ipython",
    "version": 3
   },
   "file_extension": ".py",
   "mimetype": "text/x-python",
   "name": "python",
   "nbconvert_exporter": "python",
   "pygments_lexer": "ipython3",
   "version": "3.9.5"
  },
  "interpreter": {
   "hash": "f2ce185d7e2f116fe46f4172593f8d525fe9a45a749ab24ecd1d0dcd81689f7f"
  }
 },
 "nbformat": 4,
 "nbformat_minor": 5
}